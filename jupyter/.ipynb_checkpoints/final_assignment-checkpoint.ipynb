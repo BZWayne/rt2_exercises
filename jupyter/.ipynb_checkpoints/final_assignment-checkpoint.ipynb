{
 "cells": [
  {
   "cell_type": "markdown",
   "id": "39388fc6",
   "metadata": {},
   "source": [
    "# THIS IS A JUPYTER NOTEBOOK VERSION OF RT2 ASSIGNMENT"
   ]
  },
  {
   "cell_type": "markdown",
   "id": "b809dfc9",
   "metadata": {},
   "source": [
    "Hi, here is a Jupyter Notebook implementation. "
   ]
  },
  {
   "cell_type": "markdown",
   "id": "ca1c0ba4",
   "metadata": {},
   "source": [
    "To start, the necessary libraries must be imported:"
   ]
  },
  {
   "cell_type": "code",
   "execution_count": 1,
   "id": "01a94591",
   "metadata": {},
   "outputs": [],
   "source": [
    "import rospy\n",
    "from std_msgs.msg import String\n",
    "from geometry_msgs.msg import Twist\n",
    "from sensor_msgs.msg import LaserScan\n",
    "from move_base_msgs.msg import MoveBaseAction, MoveBaseGoal, MoveBaseActionGoal, MoveBaseActionFeedback\n",
    "from actionlib_msgs.msg import GoalID, GoalStatusArray\n",
    "from nav_msgs.msg import Odometry\n",
    "from tf.transformations import *\n",
    "\n",
    "import jupyros as jr\n",
    "from jupyros import ros3d\n",
    "import ipywidgets as widgets\n",
    "from ipywidgets import interact, interactive, fixed, interact_manual, Layout\n",
    "from IPython.display import display, clear_output\n",
    "\n",
    "import matplotlib.pyplot as plt\n",
    "from matplotlib.animation import FuncAnimation\n",
    "import numpy as np\n",
    "import math\n",
    "import time\n",
    "import os\n",
    "\n",
    "import getch\n",
    "import sys, tty\n",
    "sys.path.append(\"../src/\")\n",
    "import master\n",
    "import option1\n",
    "import option2\n",
    "import option3"
   ]
  },
  {
   "cell_type": "markdown",
   "id": "4c767105",
   "metadata": {},
   "source": [
    "Now, lets visualize the robots movement"
   ]
  },
  {
   "cell_type": "code",
   "execution_count": 2,
   "id": "fafbf2b5",
   "metadata": {},
   "outputs": [
    {
     "data": {
      "application/vnd.jupyter.widget-view+json": {
       "model_id": "b039131a48e0446ab67172d0d4d4cca9",
       "version_major": 2,
       "version_minor": 0
      },
      "text/plain": [
       "Viewer(objects=[GridModel(), LaserScan(ros=ROSConnection(url='ws://localhost:9090'), tf_client=TFClient(fixed_…"
      ]
     },
     "metadata": {},
     "output_type": "display_data"
    }
   ],
   "source": [
    "v = ros3d.Viewer()\n",
    "ros_connect = ros3d.ROSConnection(url=\"ws://localhost:9090\") \n",
    "tf_client = ros3d.TFClient(ros=ros_connect, fixed_frame='map')\n",
    "laser_view = ros3d.LaserScan(topic=\"/scan\", ros=ros_connect, tf_client=tf_client) \n",
    "map_view = ros3d.OccupancyGrid(topic=\"/map\", ros=ros_connect, tf_client=tf_client, continuous=True) \n",
    "path = ros3d.Path(topic=\"/move_base/NavfnROS/plan\", ros=ros_connect, tf_client=tf_client) \n",
    "urdf = ros3d.URDFModel(ros=ros_connect, tf_client=tf_client, path=os.environ.get('JUPYROS_ASSETS_URL', 'http://localhost:3000')) \n",
    "g = ros3d.GridModel()\n",
    "v.objects = [g, laser_view, map_view, path, urdf]\n",
    "v"
   ]
  },
  {
   "cell_type": "code",
   "execution_count": 3,
   "id": "221c97eb",
   "metadata": {},
   "outputs": [
    {
     "name": "stdout",
     "output_type": "stream",
     "text": [
      "\u001b[H\u001b[2JWhats Up? This is RT1 Assignment III, and here is an UI for it.\n",
      "Press [1] for autonomous drive of the robot\n",
      "Press [2] for manual drive of the robot\n",
      "Press [3] for manual drive of the robot with collision avoidance\n",
      "Press [4] for exitting from the system\n",
      "Choose drive options: 1\n",
      "\u001b[H\u001b[2JAutonomous drive is chosen\n",
      "Insert x coordinate: 4\n",
      "Insert y coordinate: 1\n",
      "The coordinates were given: x = 4.00 and y = 1.00\n"
     ]
    },
    {
     "ename": "IndexError",
     "evalue": "list index out of range",
     "output_type": "error",
     "traceback": [
      "\u001b[0;31m---------------------------------------------------------------------------\u001b[0m",
      "\u001b[0;31mIndexError\u001b[0m                                Traceback (most recent call last)",
      "Input \u001b[0;32mIn [3]\u001b[0m, in \u001b[0;36m<cell line: 3>\u001b[0;34m()\u001b[0m\n\u001b[1;32m      1\u001b[0m \u001b[38;5;66;03m## Push the button\u001b[39;00m\n\u001b[0;32m----> 3\u001b[0m button \u001b[38;5;241m=\u001b[39m \u001b[43mmaster\u001b[49m\u001b[38;5;241;43m.\u001b[39;49m\u001b[43mmain\u001b[49m\u001b[43m(\u001b[49m\u001b[43m)\u001b[49m\n\u001b[1;32m      4\u001b[0m button\n",
      "File \u001b[0;32m~/Desktop/final_ws/src/rt2_exercises/jupyter/../src/master.py:54\u001b[0m, in \u001b[0;36mmain\u001b[0;34m()\u001b[0m\n\u001b[1;32m     52\u001b[0m         \u001b[38;5;28mprint\u001b[39m(\u001b[38;5;124m\"\u001b[39m\u001b[38;5;124mYour input is not possible to obtain\u001b[39m\u001b[38;5;124m\"\u001b[39m)\n\u001b[1;32m     53\u001b[0m \u001b[38;5;28;01mif\u001b[39;00m button \u001b[38;5;241m==\u001b[39m \u001b[38;5;241m1\u001b[39m:\n\u001b[0;32m---> 54\u001b[0m     \u001b[38;5;28;01mwhile\u001b[39;00m \u001b[38;5;129;01mnot\u001b[39;00m \u001b[43moption_one\u001b[49m\u001b[43m(\u001b[49m\u001b[43m)\u001b[49m:\n\u001b[1;32m     55\u001b[0m         \u001b[38;5;28;01mpass\u001b[39;00m\n\u001b[1;32m     56\u001b[0m \u001b[38;5;28;01mif\u001b[39;00m button \u001b[38;5;241m==\u001b[39m \u001b[38;5;241m2\u001b[39m:\n",
      "File \u001b[0;32m~/Desktop/final_ws/src/rt2_exercises/jupyter/../src/option1.py:85\u001b[0m, in \u001b[0;36moption_one\u001b[0;34m()\u001b[0m\n\u001b[1;32m     82\u001b[0m     rob_state \u001b[38;5;241m=\u001b[39m rospy\u001b[38;5;241m.\u001b[39mwait_for_message(\u001b[38;5;124m\"\u001b[39m\u001b[38;5;124mmove_base/status\u001b[39m\u001b[38;5;124m\"\u001b[39m, GoalStatusArray)\n\u001b[1;32m     84\u001b[0m \u001b[38;5;66;03m## otherwise continue\u001b[39;00m\n\u001b[0;32m---> 85\u001b[0m \u001b[38;5;28mid\u001b[39m \u001b[38;5;241m=\u001b[39m \u001b[43mrob_state\u001b[49m\u001b[38;5;241;43m.\u001b[39;49m\u001b[43mstatus_list\u001b[49m\u001b[43m[\u001b[49m\u001b[38;5;241;43m0\u001b[39;49m\u001b[43m]\u001b[49m\u001b[38;5;241m.\u001b[39mgoal_id\u001b[38;5;241m.\u001b[39mid \u001b[38;5;66;03m# Retrieve the id of the goal\u001b[39;00m\n\u001b[1;32m     86\u001b[0m state \u001b[38;5;241m=\u001b[39m rob_state\u001b[38;5;241m.\u001b[39mstatus_list[\u001b[38;5;241m0\u001b[39m]\u001b[38;5;241m.\u001b[39mstatus \u001b[38;5;66;03m# Retrieve the current status\u001b[39;00m\n\u001b[1;32m     88\u001b[0m \u001b[38;5;66;03m## if the robot is close to the goal\u001b[39;00m\n",
      "\u001b[0;31mIndexError\u001b[0m: list index out of range"
     ]
    }
   ],
   "source": [
    "## Push the button\n",
    "\n",
    "button = master.main()\n",
    "button"
   ]
  },
  {
   "cell_type": "markdown",
   "id": "ee75cd52",
   "metadata": {},
   "source": [
    "Plotting the graphs for laser scan, odometry, and goal status"
   ]
  },
  {
   "cell_type": "code",
   "execution_count": 4,
   "id": "82639448",
   "metadata": {},
   "outputs": [
    {
     "name": "stdout",
     "output_type": "stream",
     "text": [
      "Using matplotlib backend: TkAgg\n"
     ]
    }
   ],
   "source": [
    "%matplotlib\n",
    "\n",
    "angles = []\n",
    "\n",
    "class Graphs:\n",
    "    def __init__(self):\n",
    "        \n",
    "        self.fig_laser = plt.figure(figsize=(6,6))\n",
    "        self.ax_laser = plt.subplot(111, polar=True)\n",
    "        self.ax_laser.set_thetalim(-np.pi/2,np.pi/2)\n",
    "        self.ax_laser.set_theta_zero_location(\"N\")\n",
    "        self.ln_laser, = self.ax_laser.plot([],[],'bo')\n",
    "        \n",
    "        \n",
    "        self.fig_odom, self.ax_odom = plt.subplots()\n",
    "        plt.grid(True)\n",
    "        self.ln_odom, = plt.plot([] ,[], 'bo')\n",
    "        \n",
    "        self.achieved = False\n",
    "        self.goal_counter = 0\n",
    "        self.non_reached_goal_counter = 0\n",
    "        self.laser  = [] \n",
    "        self.x_pos, self.y_pos = [], []\n",
    "\n",
    "        self.fig_target, self.ax_target = plt.subplots()\n",
    "        plt.grid(True)\n",
    "        self.status_list = [0, 0]\n",
    "        self.data = {'Reached Goals': self.goal_counter, \n",
    "                     'Unreached Goals':self.non_reached_goal_counter, \n",
    "                     'Sent Goals': self.goal_counter + self.non_reached_goal_counter}\n",
    "        \n",
    "        self.target = list(self.data.keys())\n",
    "        self.values = list(self.data.values())\n",
    "        self.ln_target = plt.bar(self.target, self.values, color=(\"green\", \"red\", \"blue\"))\n",
    "        \n",
    "              \n",
    "    def plot_init(self):\n",
    "        self.ax_laser.set_title(\"Laser of the robot\")\n",
    "        self.ax_laser.set_ylabel(\"Distance\")\n",
    "        \n",
    "        self.ax_odom.set_xlim(-20, 20)\n",
    "        self.ax_odom.set_ylim(-20, 20)\n",
    "\n",
    "        self.ax_odom.set_title(\"Position\")\n",
    "        self.ax_odom.set_ylabel(\"Y-axis\")\n",
    "        self.ax_odom.set_xlabel(\"X-axis\")\n",
    "\n",
    "        self.ax_target.set_ylim(0, 10)\n",
    "        \n",
    "        return self.ln_laser , self.ln_odom, self.ln_target\n",
    "    \n",
    "    def laser_scan_callback(self, msg):\n",
    "        global angles\n",
    "        angles = list(np.arange(msg.angle_min, msg.angle_max+msg.angle_increment, msg.angle_increment))\n",
    "        self.laser=list(msg.ranges)\n",
    "        \n",
    "    def odometry_callback(self, msg):\n",
    "        self.y_pos.append(msg.pose.pose.position.y)\n",
    "        self.x_pos.append(msg.pose.pose.position.x)\n",
    "        \n",
    "    def goal_callback(self, msg): \n",
    "\n",
    "        try: \n",
    "\n",
    "            self.status_list.append(msg.status_list[0].status)\n",
    "\n",
    "            if self.status_list[-1] == 3 and self.status_list[-2] != 3:\n",
    "                self.goal_counter = self.goal_counter + 1\n",
    "\n",
    "            elif self.status_list[-1] == 2 and self.status_list[-2] != 2:\n",
    "                self.non_reached_goal_counter = self.non_reached_goal_counter + 1\n",
    "\n",
    "            elif self.status_list[-1] == 4 and self.status_list[-2] != 2:\n",
    "                self.non_reached_goal_counter = self.non_reached_goal_counter + 1\n",
    "\n",
    "        except IndexError:\n",
    "            pass\n",
    "            \n",
    "            \n",
    "    def update_plot_odom(self, frame):\n",
    "        x = self.x_pos\n",
    "        y = self.y_pos\n",
    "        self.ln_odom.set_data(x, y)\n",
    "        return self.ln_odom\n",
    "    \n",
    "    def update_plot_target(self, frame):\n",
    "        x = self.goal_counter\n",
    "        y = self.non_reached_goal_counter\n",
    "        z = self.goal_counter + self.non_reached_goal_counter\n",
    "        self.updated_data = {'Reached goal': x, \n",
    "                             'Non-reached goals': y, \n",
    "                             'Total Sent goals': z}\n",
    "        \n",
    "        h = list(self.updated_data.values())\n",
    "        q = list(self.updated_data.keys())\n",
    "        \n",
    "        self.ln_target = plt.bar(q, h, color=(\"green\", \"red\", \"blue\"))\n",
    "        \n",
    "        return self.ln_target\n",
    "    \n",
    "    def update_laser(self, frame):\n",
    "        global angles    \n",
    "        self.ax_laser.set_rmax(20)\n",
    "        self.ln_laser.set_data(angles,self.laser)\n",
    "        return self.ln_laser"
   ]
  },
  {
   "cell_type": "markdown",
   "id": "12ac1610",
   "metadata": {},
   "source": [
    "Publishers and subscribers"
   ]
  },
  {
   "cell_type": "code",
   "execution_count": 5,
   "id": "caa5952c",
   "metadata": {},
   "outputs": [
    {
     "name": "stderr",
     "output_type": "stream",
     "text": [
      "Traceback (most recent call last):\n",
      "  File \"/usr/lib/python3/dist-packages/matplotlib/cbook/__init__.py\", line 216, in process\n",
      "    func(*args, **kwargs)\n",
      "  File \"/usr/lib/python3/dist-packages/matplotlib/animation.py\", line 953, in _start\n",
      "    self._init_draw()\n",
      "  File \"/usr/lib/python3/dist-packages/matplotlib/animation.py\", line 1732, in _init_draw\n",
      "    self._draw_frame(next(self.new_frame_seq()))\n",
      "  File \"/usr/lib/python3/dist-packages/matplotlib/animation.py\", line 1760, in _draw_frame\n",
      "    self._drawn_artists = sorted(self._drawn_artists,\n",
      "TypeError: 'Line2D' object is not iterable\n",
      "Traceback (most recent call last):\n",
      "  File \"/usr/lib/python3/dist-packages/matplotlib/cbook/__init__.py\", line 216, in process\n",
      "    func(*args, **kwargs)\n",
      "  File \"/usr/lib/python3/dist-packages/matplotlib/animation.py\", line 1269, in _handle_resize\n",
      "    self._init_draw()\n",
      "  File \"/usr/lib/python3/dist-packages/matplotlib/animation.py\", line 1732, in _init_draw\n",
      "    self._draw_frame(next(self.new_frame_seq()))\n",
      "  File \"/usr/lib/python3/dist-packages/matplotlib/animation.py\", line 1760, in _draw_frame\n",
      "    self._drawn_artists = sorted(self._drawn_artists,\n",
      "TypeError: 'Line2D' object is not iterable\n",
      "Exception in Tkinter callback\n",
      "Traceback (most recent call last):\n",
      "  File \"/usr/lib/python3.8/tkinter/__init__.py\", line 1892, in __call__\n",
      "    return self.func(*args)\n",
      "  File \"/usr/lib/python3.8/tkinter/__init__.py\", line 814, in callit\n",
      "    func(*args)\n",
      "  File \"/usr/lib/python3/dist-packages/matplotlib/backends/_backend_tk.py\", line 338, in idle_draw\n",
      "    self.draw()\n",
      "  File \"/usr/lib/python3/dist-packages/matplotlib/backends/backend_tkagg.py\", line 9, in draw\n",
      "    super(FigureCanvasTkAgg, self).draw()\n",
      "  File \"/usr/lib/python3/dist-packages/matplotlib/backends/backend_agg.py\", line 388, in draw\n",
      "    self.figure.draw(self.renderer)\n",
      "  File \"/usr/lib/python3/dist-packages/matplotlib/artist.py\", line 38, in draw_wrapper\n",
      "    return draw(artist, renderer, *args, **kwargs)\n",
      "  File \"/usr/lib/python3/dist-packages/matplotlib/figure.py\", line 1708, in draw\n",
      "    mimage._draw_list_compositing_images(\n",
      "  File \"/usr/lib/python3/dist-packages/matplotlib/image.py\", line 135, in _draw_list_compositing_images\n",
      "    a.draw(renderer)\n",
      "  File \"/usr/lib/python3/dist-packages/matplotlib/artist.py\", line 38, in draw_wrapper\n",
      "    return draw(artist, renderer, *args, **kwargs)\n",
      "  File \"/usr/lib/python3/dist-packages/matplotlib/axes/_base.py\", line 2647, in draw\n",
      "    mimage._draw_list_compositing_images(renderer, self, artists)\n",
      "  File \"/usr/lib/python3/dist-packages/matplotlib/image.py\", line 135, in _draw_list_compositing_images\n",
      "    a.draw(renderer)\n",
      "  File \"/usr/lib/python3/dist-packages/matplotlib/artist.py\", line 38, in draw_wrapper\n",
      "    return draw(artist, renderer, *args, **kwargs)\n",
      "  File \"/usr/lib/python3/dist-packages/matplotlib/lines.py\", line 759, in draw\n",
      "    self.recache()\n",
      "  File \"/usr/lib/python3/dist-packages/matplotlib/lines.py\", line 679, in recache\n",
      "    self._xy = np.column_stack(np.broadcast_arrays(x, y)).astype(float)\n",
      "  File \"<__array_function__ internals>\", line 180, in broadcast_arrays\n",
      "  File \"/home/bzwayne/.local/lib/python3.8/site-packages/numpy/lib/stride_tricks.py\", line 539, in broadcast_arrays\n",
      "    shape = _broadcast_shape(*args)\n",
      "  File \"/home/bzwayne/.local/lib/python3.8/site-packages/numpy/lib/stride_tricks.py\", line 421, in _broadcast_shape\n",
      "    b = np.broadcast(*args[:32])\n",
      "ValueError: shape mismatch: objects cannot be broadcast to a single shape.  Mismatch is between arg 0 with shape (5629,) and arg 1 with shape (5631,).\n"
     ]
    }
   ],
   "source": [
    "vis = Graphs()\n",
    "pub_velocity = rospy.Publisher('/cmd_vel', Twist, queue_size = 1)\n",
    "sub_scan = rospy.Subscriber(\"/scan\", LaserScan, vis.laser_scan_callback)\n",
    "sub_odom = rospy.Subscriber(\"/odom\", Odometry, vis.odometry_callback)\n",
    "sub_status = rospy.Subscriber(\"/move_base/status\", GoalStatusArray, vis.goal_callback)\n",
    "\n",
    "ani_laser = FuncAnimation(vis.fig_laser, vis.update_laser, blit = True)\n",
    "ani_odom = FuncAnimation(vis.fig_odom, vis.update_plot_odom, init_func=vis.plot_init)\n",
    "ani_target = FuncAnimation(vis.fig_target, vis.update_plot_target, init_func=vis.plot_init, interval=100)\n",
    "\n",
    "plt.show()"
   ]
  },
  {
   "cell_type": "code",
   "execution_count": null,
   "id": "d9102c9d",
   "metadata": {},
   "outputs": [],
   "source": []
  }
 ],
 "metadata": {
  "kernelspec": {
   "display_name": "Python 3 (ipykernel)",
   "language": "python",
   "name": "python3"
  },
  "language_info": {
   "codemirror_mode": {
    "name": "ipython",
    "version": 3
   },
   "file_extension": ".py",
   "mimetype": "text/x-python",
   "name": "python",
   "nbconvert_exporter": "python",
   "pygments_lexer": "ipython3",
   "version": "3.8.10"
  }
 },
 "nbformat": 4,
 "nbformat_minor": 5
}
