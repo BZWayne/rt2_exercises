{
 "cells": [
  {
   "cell_type": "markdown",
   "id": "39388fc6",
   "metadata": {},
   "source": [
    "# THIS IS A JUPYTER NOTEBOOK VERSION OF RT2 ASSIGNMENT"
   ]
  },
  {
   "cell_type": "markdown",
   "id": "b809dfc9",
   "metadata": {},
   "source": [
    "Hi, here is a Jupyter Notebook implementation. "
   ]
  },
  {
   "cell_type": "markdown",
   "id": "ca1c0ba4",
   "metadata": {},
   "source": [
    "To start, the necessary libraries must be imported:"
   ]
  },
  {
   "cell_type": "code",
   "execution_count": null,
   "id": "01a94591",
   "metadata": {},
   "outputs": [],
   "source": [
    "import rospy\n",
    "from std_msgs.msg import String\n",
    "from geometry_msgs.msg import Twist\n",
    "from sensor_msgs.msg import LaserScan\n",
    "from move_base_msgs.msg import MoveBaseAction, MoveBaseGoal, MoveBaseActionGoal, MoveBaseActionFeedback\n",
    "from actionlib_msgs.msg import GoalID, GoalStatusArray\n",
    "from nav_msgs.msg import Odometry\n",
    "from tf.transformations import *\n",
    "\n",
    "import jupyros as jr\n",
    "from jupyros import ros3d\n",
    "import ipywidgets as widgets\n",
    "from ipywidgets import interact, interactive, fixed, interact_manual, Layout\n",
    "from IPython.display import display, clear_output\n",
    "\n",
    "%matplotlib\n",
    "import matplotlib.pyplot as plt\n",
    "from matplotlib.animation import FuncAnimation\n",
    "import numpy as np\n",
    "import math\n",
    "import time\n",
    "import os\n",
    "\n",
    "import getch\n",
    "import sys, tty\n",
    "sys.path.append(\"../src/\")\n",
    "import master\n",
    "import option1\n",
    "import option2\n",
    "import option3"
   ]
  },
  {
   "cell_type": "markdown",
   "id": "4c767105",
   "metadata": {},
   "source": [
    "Now, lets visualize the robots movement"
   ]
  },
  {
   "cell_type": "code",
   "execution_count": null,
   "id": "fafbf2b5",
   "metadata": {},
   "outputs": [],
   "source": [
    "v = ros3d.Viewer()\n",
    "ros_connect = ros3d.ROSConnection(url=\"ws://localhost:9090\") \n",
    "tf_client = ros3d.TFClient(ros=ros_connect, fixed_frame='map')\n",
    "laser_view = ros3d.LaserScan(topic=\"/scan\", ros=ros_connect, tf_client=tf_client) \n",
    "map_view = ros3d.OccupancyGrid(topic=\"/map\", ros=ros_connect, tf_client=tf_client, continuous=True) \n",
    "path = ros3d.Path(topic=\"/move_base/NavfnROS/plan\", ros=ros_connect, tf_client=tf_client) \n",
    "urdf = ros3d.URDFModel(ros=ros_connect, tf_client=tf_client, path=os.environ.get('JUPYROS_ASSETS_URL', 'http://localhost:3000')) \n",
    "g = ros3d.GridModel()\n",
    "v.objects = [g, laser_view, map_view, path, urdf]\n",
    "v"
   ]
  },
  {
   "cell_type": "code",
   "execution_count": null,
   "id": "221c97eb",
   "metadata": {},
   "outputs": [],
   "source": [
    "## Push the button\n",
    "\n",
    "button = master.main()\n",
    "button"
   ]
  },
  {
   "cell_type": "markdown",
   "id": "ee75cd52",
   "metadata": {},
   "source": [
    "Plotting the graphs for laser scan, odometry, and goal status"
   ]
  },
  {
   "cell_type": "code",
   "execution_count": null,
   "id": "82639448",
   "metadata": {},
   "outputs": [],
   "source": [
    "### classifying the class to provide plot of robot movement\n",
    "class Graphs:\n",
    "    def __init__(self):\n",
    "        \n",
    "        self.figure_laser = plt.figure(figsize=(6,6))\n",
    "        self.axis_laser = plt.subplot(111, polar=True)\n",
    "        self.axis_laser.set_thetalim(-np.pi/2,np.pi/2)\n",
    "        self.axis_laser.set_theta_zero_location(\"N\")\n",
    "        self.line_laser, = self.axis_laser.plot([],[],'bo')\n",
    "        \n",
    "        self.figure_odom, self.axis_odom = plt.subplots()\n",
    "        plt.grid(True)\n",
    "        self.line_odom, = plt.plot([] ,[], 'bo')\n",
    "        \n",
    "        self.reached = False\n",
    "        self.reached_goal_counter = 0\n",
    "        self.non_reached_goal_counter = 0\n",
    "        self.laser  = [] \n",
    "        self.position_x = []\n",
    "        self.position_y = []\n",
    "\n",
    "        self.figure_target, self.axis_target = plt.subplots()\n",
    "        plt.grid(True)\n",
    "        self.status_list = [0, 0]\n",
    "        self.data = {'Reached Goals': self.reached_goal_counter, \n",
    "                     'Unreached Goals':self.non_reached_goal_counter}\n",
    "        \n",
    "        self.target = list(self.data.keys())\n",
    "        self.values = list(self.data.values())\n",
    "        self.line_target = plt.bar(self.target, self.values, color=(\"green\", \"red\", \"blue\"))\n",
    "        \n",
    "    ## init the plots to set the        \n",
    "    def plot_init(self):\n",
    "        ## laser history\n",
    "        self.axis_laser.set_title(\"Laser of the robot\")\n",
    "        self.axis_laser.set_ylabel(\"Distance to object\")\n",
    "        \n",
    "        ### setting the general plot (x, y) \n",
    "        self.axis_odom.set_xlim(-15, 15)\n",
    "        self.axis_odom.set_ylim(-15, 15)\n",
    "        self.axis_odom.set_title(\"Position\")\n",
    "        self.axis_odom.set_ylabel(\"Y-axis\")\n",
    "        self.axis_odom.set_xlabel(\"X-axis\")\n",
    "        \n",
    "        ## goal history\n",
    "        self.axis_target.set_ylim(0, 10)\n",
    "        return self.line_laser , self.line_odom, self.line_target\n",
    "    \n",
    "    ### subscribers callbacks of laser, odom, and goals\n",
    "    def callback_laser(self, msg):\n",
    "        global angles\n",
    "        angles = list(np.arange(msg.angle_min, msg.angle_max+msg.angle_increment, msg.angle_increment))\n",
    "        self.laser=list(msg.ranges)\n",
    "        \n",
    "    def callback_odom(self, msg):\n",
    "        self.position_y.append(msg.pose.pose.position.y)\n",
    "        self.position_x.append(msg.pose.pose.position.x)\n",
    "        \n",
    "    def callback_goal(self, msg): \n",
    "        try: \n",
    "            self.status_list.append(msg.status_list[0].status)\n",
    "            \n",
    "            ### if the status is reached\n",
    "            if self.status_list[-1] == 3 and self.status_list[-2] != 3:\n",
    "                self.reached_goal_counter = self.reached_goal_counter + 1\n",
    "                \n",
    "            ### if status is not reached\n",
    "            elif self.status_list[-1] == 2 and self.status_list[-2] != 2:\n",
    "                self.non_reached_goal_counter = self.non_reached_goal_counter + 1\n",
    "\n",
    "        except IndexError:\n",
    "            pass\n",
    "    \n",
    "    ## update plots for laser, odom and goal\n",
    "    def update_laser(self, frame):\n",
    "        global angles    \n",
    "        self.axis_laser.set_rmax(20)\n",
    "        self.line_laser.set_data(angles,self.laser)\n",
    "        return self.line_laser\n",
    "            \n",
    "    def update_odom(self, frame):\n",
    "        x = self.position_x\n",
    "        y = self.position_y\n",
    "        self.line_odom.set_data(x, y)\n",
    "        return self.line_odom\n",
    "    \n",
    "    def update_goal(self, frame):\n",
    "        x = self.reached_goal_counter\n",
    "        y = self.non_reached_goal_counter\n",
    "        self.updated_data = {'Reached goal': x, 'Non-reached goals': y}\n",
    "        \n",
    "        h = list(self.updated_data.values())\n",
    "        q = list(self.updated_data.keys())\n",
    "        \n",
    "        self.line_target = plt.bar(q, h, color=(\"green\", \"red\"))\n",
    "        return self.line_target"
   ]
  },
  {
   "cell_type": "markdown",
   "id": "12ac1610",
   "metadata": {},
   "source": [
    "Here is the plots of them"
   ]
  },
  {
   "cell_type": "code",
   "execution_count": null,
   "id": "caa5952c",
   "metadata": {},
   "outputs": [],
   "source": [
    "plots = Graphs()\n",
    "\n",
    "### laser scan subscriber animation\n",
    "sub_laser = rospy.Subscriber(\"/scan\", LaserScan, plots.callback_laser)\n",
    "animate_laser = FuncAnimation(plots.figure_laser, plots.update_laser, blit = True)\n",
    "\n",
    "### odometry scan subscriber animation\n",
    "sub_odom = rospy.Subscriber(\"/odom\", Odometry, plots.callback_odom)\n",
    "animate_odom = FuncAnimation(plots.figure_odom, plots.update_odom, init_func=plots.plot_init)\n",
    "\n",
    "### goal status scan subscriber animation\n",
    "sub_status = rospy.Subscriber(\"/move_base/status\", GoalStatusArray, plots.callback_goal)\n",
    "animate_target = FuncAnimation(plots.figure_target, plots.update_goal, init_func=plots.plot_init, interval=100)\n",
    "\n",
    "plt.show()"
   ]
  },
  {
   "cell_type": "markdown",
   "id": "0dcc2615",
   "metadata": {},
   "source": [
    "## "
   ]
  }
 ],
 "metadata": {
  "kernelspec": {
   "display_name": "Python 3 (ipykernel)",
   "language": "python",
   "name": "python3"
  },
  "language_info": {
   "codemirror_mode": {
    "name": "ipython",
    "version": 3
   },
   "file_extension": ".py",
   "mimetype": "text/x-python",
   "name": "python",
   "nbconvert_exporter": "python",
   "pygments_lexer": "ipython3",
   "version": "3.8.10"
  }
 },
 "nbformat": 4,
 "nbformat_minor": 5
}
